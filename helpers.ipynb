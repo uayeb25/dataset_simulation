{
 "cells": [
  {
   "cell_type": "code",
   "execution_count": 46,
   "id": "1b9a046d-1eb0-4011-b55c-9ac50d781a69",
   "metadata": {},
   "outputs": [],
   "source": [
    "import pandas as pd\n",
    "import numpy as np\n",
    "import random"
   ]
  },
  {
   "cell_type": "code",
   "execution_count": 96,
   "id": "88fb3626-df33-443a-b742-b06e4c28ce5d",
   "metadata": {},
   "outputs": [
    {
     "data": {
      "text/plain": [
       "DatetimeIndex(['2023-01-01', '2023-01-02', '2023-01-03', '2023-01-04',\n",
       "               '2023-01-05', '2023-01-06', '2023-01-07', '2023-01-08',\n",
       "               '2023-01-09', '2023-01-10', '2023-01-11', '2023-01-12',\n",
       "               '2023-01-13', '2023-01-14', '2023-01-15', '2023-01-16',\n",
       "               '2023-01-17', '2023-01-18', '2023-01-19', '2023-01-20'],\n",
       "              dtype='datetime64[ns]', freq='D')"
      ]
     },
     "execution_count": 96,
     "metadata": {},
     "output_type": "execute_result"
    }
   ],
   "source": [
    "pd.date_range( start = '2023-01-01' , end = '2023-01-20' , freq = 'D' )"
   ]
  },
  {
   "cell_type": "markdown",
   "id": "e0a2e2ef-1f53-4ec5-8d95-286661dab286",
   "metadata": {},
   "source": [
    "## Creacion de un diccionarios"
   ]
  },
  {
   "cell_type": "code",
   "execution_count": 3,
   "id": "eb313c19-bb5f-43a9-9d46-1e102d249f28",
   "metadata": {},
   "outputs": [],
   "source": [
    "diccionario = {}"
   ]
  },
  {
   "cell_type": "code",
   "execution_count": 29,
   "id": "9e0a2287-8de4-4b31-b8ab-7ed07ae03f2e",
   "metadata": {},
   "outputs": [],
   "source": [
    "diccionario = {\n",
    "    \"nombre\": \"uayeb\"\n",
    "    , \"apellido\": \"caballero\"\n",
    "    , \"edad\": 35\n",
    "    , \"edad\": 44\n",
    "    , \"materias_cursadas\": [\n",
    "        {\n",
    "            \"id\": 1\n",
    "            , \"name\": 'Teoria'\n",
    "            , \"HI\": 7\n",
    "            , \"HF\": 10\n",
    "        },{\n",
    "            \"id\": 2\n",
    "            , \"name\": 'Expertos'\n",
    "            , \"HI\": 7\n",
    "            , \"HF\": 10\n",
    "        }\n",
    "    ],\n",
    "    \"depto\": {\n",
    "        \"id\": 23\n",
    "         , \"name\": \"IS\"\n",
    "    }\n",
    "}"
   ]
  },
  {
   "cell_type": "code",
   "execution_count": 63,
   "id": "be2d3240-294c-4074-bbe2-6f592b084ae8",
   "metadata": {},
   "outputs": [
    {
     "data": {
      "text/plain": [
       "{'nombre': 'uayeb',\n",
       " 'apellido': 'caballero',\n",
       " 'edad': 44,\n",
       " 'materias_cursadas': [{'id': 1, 'name': 'Teoria', 'HI': 7, 'HF': 10},\n",
       "  {'id': 2, 'name': 'Expertos', 'HI': 7, 'HF': 10}],\n",
       " 'depto': {'id': 23, 'name': 'IS'},\n",
       " 'genero': 'M'}"
      ]
     },
     "execution_count": 63,
     "metadata": {},
     "output_type": "execute_result"
    }
   ],
   "source": [
    "diccionario"
   ]
  },
  {
   "cell_type": "code",
   "execution_count": 61,
   "id": "ac008fb7-1530-4c63-b2f6-e1f13ce04834",
   "metadata": {},
   "outputs": [],
   "source": [
    "diccionario['genero'] = 'M'"
   ]
  },
  {
   "cell_type": "code",
   "execution_count": 27,
   "id": "9699efe0-e3b6-4bbf-881d-76eecce35e66",
   "metadata": {},
   "outputs": [
    {
     "data": {
      "text/plain": [
       "'Teoria'"
      ]
     },
     "execution_count": 27,
     "metadata": {},
     "output_type": "execute_result"
    }
   ],
   "source": [
    "diccionario[\"materias_cursadas\"][0][\"name\"]"
   ]
  },
  {
   "cell_type": "code",
   "execution_count": 35,
   "id": "115b94ec-6581-4d32-ba9b-01d7db18b091",
   "metadata": {},
   "outputs": [
    {
     "data": {
      "text/plain": [
       "'IS'"
      ]
     },
     "execution_count": 35,
     "metadata": {},
     "output_type": "execute_result"
    }
   ],
   "source": [
    "diccionario['depto']['name']"
   ]
  },
  {
   "cell_type": "markdown",
   "id": "5ea6a930-4c74-47a6-b9b3-56b0c8140da4",
   "metadata": {},
   "source": [
    "## Diccionario metadata de configuraciones"
   ]
  },
  {
   "cell_type": "code",
   "execution_count": 100,
   "id": "c2ea344c-d57d-4088-892d-9ebea895247e",
   "metadata": {},
   "outputs": [],
   "source": [
    "def get_random_categories( items , n  ):\n",
    "    return random.choices(items, k=n)\n",
    "\n",
    "\n",
    "def get_random_numbers( min , max, n ):\n",
    "    values = []\n",
    "    for i in range(n):\n",
    "        values.append(\n",
    "            random.randint(min, max)\n",
    "        )\n",
    "    return values\n",
    "\n",
    "def get_random_dates( min , max , n ):\n",
    "    items = pd.date_range( start = min , end = max , freq = 'D' )\n",
    "    return get_random_categories( items , n )"
   ]
  },
  {
   "cell_type": "code",
   "execution_count": 118,
   "id": "3ca481e8-9e83-4fbc-bf02-d37bf5247587",
   "metadata": {},
   "outputs": [
    {
     "data": {
      "text/plain": [
       "False"
      ]
     },
     "execution_count": 118,
     "metadata": {},
     "output_type": "execute_result"
    }
   ],
   "source": [
    "'C' in ['A','B']"
   ]
  },
  {
   "cell_type": "code",
   "execution_count": 128,
   "id": "bb167691-b316-42a7-8c91-868b4a46abae",
   "metadata": {},
   "outputs": [],
   "source": [
    "def get_dataframe( sett , num_records ):\n",
    "    metadata_df = {}\n",
    "\n",
    "    types = [ 'categorico' , 'numerico' , 'date' ]\n",
    "    \n",
    "    for k in sett.keys():\n",
    "        if sett[k][\"tipo\"] in types:\n",
    "            if sett[k]['tipo'] == \"categorico\":\n",
    "                values = get_random_categories( sett[k]['conf'] , num_records  )\n",
    "\n",
    "            if sett[k]['tipo'] == \"numerico\":\n",
    "                values = get_random_numbers( \n",
    "                    sett[k]['conf']['min'] \n",
    "                    , sett[k]['conf']['max']\n",
    "                    , num_records \n",
    "                )\n",
    "        \n",
    "            if sett[k]['tipo'] == \"date\":\n",
    "                values = get_random_dates( \n",
    "                    sett[k]['conf'][0]            \n",
    "                    , sett[k]['conf'][1] \n",
    "                    , num_records \n",
    "                )\n",
    "                \n",
    "            \n",
    "            metadata_df[k] = values\n",
    "            \n",
    "    return pd.DataFrame( metadata_df )\n",
    "\n"
   ]
  },
  {
   "cell_type": "code",
   "execution_count": 136,
   "id": "68c451af-dcc0-4c23-a5be-c4cf7ee061e7",
   "metadata": {},
   "outputs": [],
   "source": [
    "settings = {\n",
    "    \"depto\": {\n",
    "        \"tipo\": \"categorico\"\n",
    "        , \"conf\": [\"IS\",\"II\",\"IQ\",\"MK\"]\n",
    "    }\n",
    "    , \"numero_empleados_inv\": {\n",
    "        \"tipo\": \"numericos\"\n",
    "        , \"conf\": {\n",
    "            \"min\": 5\n",
    "            , \"max\": 20\n",
    "        }\n",
    "    }\n",
    "    , \"fecha\": {\n",
    "        \"tipo\": \"date\"\n",
    "        , \"conf\": ['2023-01-01', '2024-05-01']\n",
    "    }\n",
    "    , \"ingresos\": {\n",
    "        \"tipo\": \"numerico\"\n",
    "        , \"conf\": {\n",
    "            \"min\": 1000\n",
    "            , \"max\": 10000\n",
    "        }\n",
    "    }\n",
    "\n",
    "    , \"Y\": {\n",
    "        \"tipo\": \"categorico\"\n",
    "        , \"conf\": [3,4,5,5,6]\n",
    "    }\n",
    "}"
   ]
  },
  {
   "cell_type": "code",
   "execution_count": 142,
   "id": "9b7343ea-825b-4a7f-a61f-d6c7d3af02ce",
   "metadata": {},
   "outputs": [],
   "source": [
    "df = get_dataframe( settings , 1000 )"
   ]
  },
  {
   "cell_type": "code",
   "execution_count": 149,
   "id": "73660159-350a-41c1-ae35-a9222c66b0c2",
   "metadata": {},
   "outputs": [],
   "source": [
    "df.to_csv( 'sample.csv' , index=False )"
   ]
  },
  {
   "cell_type": "code",
   "execution_count": 153,
   "id": "01fc0e11-99c3-444a-a006-1fbf10cd05cb",
   "metadata": {},
   "outputs": [
    {
     "data": {
      "text/plain": [
       "depto               object\n",
       "fecha       datetime64[ns]\n",
       "ingresos             int64\n",
       "Y                    int64\n",
       "dtype: object"
      ]
     },
     "execution_count": 153,
     "metadata": {},
     "output_type": "execute_result"
    }
   ],
   "source": [
    "df.dtypes"
   ]
  },
  {
   "cell_type": "code",
   "execution_count": null,
   "id": "693be20a-4401-431f-a9d6-3974ccfd3b8c",
   "metadata": {},
   "outputs": [],
   "source": []
  }
 ],
 "metadata": {
  "kernelspec": {
   "display_name": "Python 3 (ipykernel)",
   "language": "python",
   "name": "python3"
  },
  "language_info": {
   "codemirror_mode": {
    "name": "ipython",
    "version": 3
   },
   "file_extension": ".py",
   "mimetype": "text/x-python",
   "name": "python",
   "nbconvert_exporter": "python",
   "pygments_lexer": "ipython3",
   "version": "3.11.5"
  }
 },
 "nbformat": 4,
 "nbformat_minor": 5
}
